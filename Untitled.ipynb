{
 "cells": [
  {
   "cell_type": "code",
   "execution_count": 63,
   "metadata": {},
   "outputs": [],
   "source": [
    "\"\"\"config.py\"\"\"\n",
    "CONSUMER_KEY = \"GlFjfzRjlB3bpIr09MTmv6wE8\"\n",
    "CONSUMER_SECRET = \"hBXRP1Z2HAQ2Vh3WivLmnuvhEzNdTn0octGq7trd4VQh1XPx2J\"\n",
    "ACCESS_TOKEN = \"1410168991-JAcVXyQemaFMjoAxIQfoDVEl1YCLYzkgmR72b0n\"\n",
    "ACCESS_TOKEN_SECRET = \"fOhhO2tIgOiohJDVlF3rklLBBRJpH5WKjlfjjNJyy68aT\""
   ]
  },
  {
   "cell_type": "code",
   "execution_count": 64,
   "metadata": {},
   "outputs": [],
   "source": [
    "import json, config \n",
    "from requests_oauthlib import OAuth1Session\n",
    "#from GET_Weather import get_icon\n",
    "\"\"\"認証関連\"\"\"\n",
    "CK = config.CONSUMER_KEY\n",
    "CS = config.CONSUMER_SECRET\n",
    "AT = config.ACCESS_TOKEN\n",
    "ATS = config.ACCESS_TOKEN_SECRET\n",
    "twitter = OAuth1Session(CK, CS, AT, ATS)\n",
    "\n",
    "weather_icon = get_icon() #天気の取得&天気アイコンの取得\n",
    "\n",
    "\"\"\"プロフィール, 名前の変更\"\"\"\n",
    "url = 'https://api.twitter.com/1.1/account/update_profile.json'\n",
    "method = 'POST'\n",
    "\n",
    "params = {'name':'Nakajima' + weather_icon} \n",
    "res = twitter.post(url, params = params)"
   ]
  },
  {
   "cell_type": "code",
   "execution_count": 65,
   "metadata": {},
   "outputs": [],
   "source": []
  },
  {
   "cell_type": "code",
   "execution_count": null,
   "metadata": {},
   "outputs": [],
   "source": []
  }
 ],
 "metadata": {
  "kernelspec": {
   "display_name": "Python 3",
   "language": "python",
   "name": "python3"
  },
  "language_info": {
   "codemirror_mode": {
    "name": "ipython",
    "version": 3
   },
   "file_extension": ".py",
   "mimetype": "text/x-python",
   "name": "python",
   "nbconvert_exporter": "python",
   "pygments_lexer": "ipython3",
   "version": "3.6.4"
  }
 },
 "nbformat": 4,
 "nbformat_minor": 2
}
